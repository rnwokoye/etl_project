{
 "cells": [
  {
   "cell_type": "code",
   "execution_count": 1,
   "metadata": {},
   "outputs": [],
   "source": [
    "# ETL PRoject"
   ]
  },
  {
   "cell_type": "raw",
   "metadata": {},
   "source": [
    "The aim of this project is to extract movies dataset from IMDB movies database, clean the data and insert into a postgres database. \n",
    "Technologies used include:\n",
    "- Postgres Database\n",
    "- sqlalchemy library\n",
    "- Pandas\n",
    "- User defined functions to clean some of the data columns\n",
    "\n",
    "Source data will be csv file pulled from imbd datasource"
   ]
  },
  {
   "cell_type": "raw",
   "metadata": {},
   "source": [
    "The dataset contains data on Movies, Actors and ratings. We intend to pull each dataset into a seperate table, and create joins that link actors to movies and ratings for insight into the dataset "
   ]
  },
  {
   "cell_type": "code",
   "execution_count": 48,
   "metadata": {},
   "outputs": [],
   "source": [
    "import pandas as pd\n",
    "import psycopg2\n",
    "import sqlalchemy\n",
    "import numpy as np\n",
    "import matplotlib as plt\n",
    "from sqlalchemy import create_engine, inspect\n",
    "from datetime import datetime"
   ]
  },
  {
   "cell_type": "code",
   "execution_count": 3,
   "metadata": {},
   "outputs": [],
   "source": [
    "# Database connection \n",
    "pg_port = '5432'\n",
    "pg_username = 'postgres'\n",
    "pg_pw = 'postgres'\n",
    "pg_db = 'movies'\n",
    "postgresDSN = ('postgresql://{}:{}@{}:{}/{}'.format(pg_username, pg_pw, 'localhost', pg_port, pg_db))\n",
    "engine = create_engine(postgresDSN)\n",
    "cnx = engine.connect()"
   ]
  },
  {
   "cell_type": "code",
   "execution_count": 4,
   "metadata": {},
   "outputs": [],
   "source": [
    "# create the database schema\n",
    "# Query was run directly in postgres. Can also be run from jupyter notes\n",
    "\n",
    "# #query = f\"\"\" \n",
    "\n",
    "# Drop Table IF EXISTS Movie_Actor CASCADE;  \n",
    "# Drop Table IF EXISTS Ratings CASCADE;  \n",
    "# Drop Table IF EXISTS Movies CASCADE;  \n",
    "# Drop Table IF EXISTS Actors CASCADE;  \n",
    "\n",
    "# CREATE TABLE  Actors  (\n",
    "#     actor_id  INT   NOT NULL,\n",
    "#      first_name  VARCHAR(255)   NOT NULL,\n",
    "#      last_name  VARCHAR(255)   NOT NULL,\n",
    "#      birth_name  VARCHAR(255),\n",
    "#      date_of_birth  date,\n",
    "#      place_of_birth  text,\n",
    "#      date_of_death  date,\n",
    "#      reason_of_death  text,\n",
    "#     CONSTRAINT  pk_Actors  PRIMARY KEY (\n",
    "#         actor_id \n",
    "#     )\n",
    "# );\n",
    "\n",
    "# CREATE TABLE  Movies  (\n",
    "#     movie_id  INT   NOT NULL,\n",
    "#     title  text   NOT NULL,\n",
    "#     year  INT   NOT NULL,\n",
    "#     genre  VARCHAR(255)   NOT NULL,\n",
    "#     duration  INT,\n",
    "#     language  text,\n",
    "#     director  VARCHAR(255),\n",
    "#     actors  text,\n",
    "#     description  text,\n",
    "#     avg_vote  float   NOT NULL,\n",
    "#     budget  float,\n",
    "#     gross_income  float,\n",
    "#     critic_reviews  float,\n",
    "#     CONSTRAINT  pk_Movies  PRIMARY KEY (\n",
    "#         movie_id \n",
    "#     )\n",
    "# );\n",
    "\n",
    "# CREATE TABLE  Ratings  (\n",
    "#     movie_id  INT   NOT NULL,\n",
    "#     avg_vote_females  float,\n",
    "#     avg_vote_males  float,\n",
    "#     total_votes  INT   NOT NULL,\n",
    "#     weighted_average_vote  float   NOT NULL,\n",
    "#    CONSTRAINT  pk_Ratings  PRIMARY KEY (\n",
    "#         movie_id \n",
    "#     )\n",
    "# );\n",
    "\n",
    "# CREATE TABLE  Movie_Actor  (\n",
    "#     id  serial   NOT NULL,\n",
    "#     movie_id  INT   NOT NULL,\n",
    "#     actor_id  INT   NOT NULL,\n",
    "#     role  text,\n",
    "#     characters  text,\n",
    "#    CONSTRAINT  pk_Movie_Actor  PRIMARY KEY (\n",
    "#         id \n",
    "#     )\n",
    "# );\n",
    "\n",
    "# ALTER TABLE  Ratings  ADD CONSTRAINT  fk_Ratings_movie_id  FOREIGN KEY( movie_id )\n",
    "# REFERENCES  Movies  ( movie_id );\n",
    "\n",
    "# ALTER TABLE  Movie_Actor  ADD CONSTRAINT  fk_Movie_Actor_movie_id  FOREIGN KEY( movie_id )\n",
    "# REFERENCES  Movies  ( movie_id );\n",
    "\n",
    "# ALTER TABLE  Movie_Actor  ADD CONSTRAINT  fk_Movie_Actor_actor_id  FOREIGN KEY( actor_id )\n",
    "# REFERENCES  Actors  ( actor_id );\n",
    "\n",
    "# \"\"\""
   ]
  },
  {
   "cell_type": "code",
   "execution_count": 5,
   "metadata": {},
   "outputs": [],
   "source": [
    "data_source = 'Resources/'"
   ]
  },
  {
   "cell_type": "code",
   "execution_count": 6,
   "metadata": {},
   "outputs": [],
   "source": [
    "movies_csv = data_source + 'IMDB movies.csv'\n",
    "actors_csv = data_source + 'IMDB names.csv'\n",
    "ratings_csv = data_source + 'IMDB ratings.csv'\n",
    "title_principals = data_source + 'IMDb title_principals.csv'"
   ]
  },
  {
   "cell_type": "code",
   "execution_count": 49,
   "metadata": {},
   "outputs": [],
   "source": [
    "actors = pd.read_csv(actors_csv, low_memory=False)"
   ]
  },
  {
   "cell_type": "code",
   "execution_count": 50,
   "metadata": {
    "scrolled": true
   },
   "outputs": [
    {
     "data": {
      "text/html": [
       "<div>\n",
       "<style scoped>\n",
       "    .dataframe tbody tr th:only-of-type {\n",
       "        vertical-align: middle;\n",
       "    }\n",
       "\n",
       "    .dataframe tbody tr th {\n",
       "        vertical-align: top;\n",
       "    }\n",
       "\n",
       "    .dataframe thead th {\n",
       "        text-align: right;\n",
       "    }\n",
       "</style>\n",
       "<table border=\"1\" class=\"dataframe\">\n",
       "  <thead>\n",
       "    <tr style=\"text-align: right;\">\n",
       "      <th></th>\n",
       "      <th>imdb_name_id</th>\n",
       "      <th>name</th>\n",
       "      <th>birth_name</th>\n",
       "      <th>height</th>\n",
       "      <th>bio</th>\n",
       "      <th>birth_details</th>\n",
       "      <th>date_of_birth</th>\n",
       "      <th>place_of_birth</th>\n",
       "      <th>death_details</th>\n",
       "      <th>date_of_death</th>\n",
       "      <th>place_of_death</th>\n",
       "      <th>reason_of_death</th>\n",
       "      <th>spouses_string</th>\n",
       "      <th>spouses</th>\n",
       "      <th>divorces</th>\n",
       "      <th>spouses_with_children</th>\n",
       "      <th>children</th>\n",
       "    </tr>\n",
       "  </thead>\n",
       "  <tbody>\n",
       "    <tr>\n",
       "      <th>0</th>\n",
       "      <td>nm0000001</td>\n",
       "      <td>Fred Astaire</td>\n",
       "      <td>Frederic Austerlitz Jr.</td>\n",
       "      <td>177.0</td>\n",
       "      <td>Fred Astaire was born in Omaha, Nebraska, to J...</td>\n",
       "      <td>May 10, 1899 in Omaha, Nebraska, USA</td>\n",
       "      <td>1899-05-10</td>\n",
       "      <td>Omaha, Nebraska, USA</td>\n",
       "      <td>June 22, 1987 in Los Angeles, California, USA ...</td>\n",
       "      <td>1987-06-22</td>\n",
       "      <td>Los Angeles, California, USA</td>\n",
       "      <td>pneumonia</td>\n",
       "      <td>Robyn Smith  (27 June 1980 - 22 June 1987) (hi...</td>\n",
       "      <td>2</td>\n",
       "      <td>0</td>\n",
       "      <td>1</td>\n",
       "      <td>2</td>\n",
       "    </tr>\n",
       "    <tr>\n",
       "      <th>1</th>\n",
       "      <td>nm0000002</td>\n",
       "      <td>Lauren Bacall</td>\n",
       "      <td>Betty Joan Perske</td>\n",
       "      <td>174.0</td>\n",
       "      <td>Lauren Bacall was born Betty Joan Perske on Se...</td>\n",
       "      <td>September 16, 1924 in The Bronx, New York City...</td>\n",
       "      <td>1924-09-16</td>\n",
       "      <td>The Bronx, New York City, New York, USA</td>\n",
       "      <td>August 12, 2014 in New York City, New York, US...</td>\n",
       "      <td>2014-08-12</td>\n",
       "      <td>New York City, New York, USA</td>\n",
       "      <td>stroke</td>\n",
       "      <td>Jason Robards  (4 July 1961 - 10 September 196...</td>\n",
       "      <td>2</td>\n",
       "      <td>1</td>\n",
       "      <td>2</td>\n",
       "      <td>3</td>\n",
       "    </tr>\n",
       "    <tr>\n",
       "      <th>2</th>\n",
       "      <td>nm0000003</td>\n",
       "      <td>Brigitte Bardot</td>\n",
       "      <td>Brigitte Bardot</td>\n",
       "      <td>166.0</td>\n",
       "      <td>Brigitte Bardot was born on September 28, 1934...</td>\n",
       "      <td>September 28, 1934 in Paris, France</td>\n",
       "      <td>1934-09-28</td>\n",
       "      <td>Paris, France</td>\n",
       "      <td>NaN</td>\n",
       "      <td>NaN</td>\n",
       "      <td>NaN</td>\n",
       "      <td>NaN</td>\n",
       "      <td>Bernard d'Ormale  (16 August 1992 - present)\\n...</td>\n",
       "      <td>4</td>\n",
       "      <td>3</td>\n",
       "      <td>1</td>\n",
       "      <td>1</td>\n",
       "    </tr>\n",
       "  </tbody>\n",
       "</table>\n",
       "</div>"
      ],
      "text/plain": [
       "  imdb_name_id             name               birth_name  height  \\\n",
       "0    nm0000001     Fred Astaire  Frederic Austerlitz Jr.   177.0   \n",
       "1    nm0000002    Lauren Bacall        Betty Joan Perske   174.0   \n",
       "2    nm0000003  Brigitte Bardot          Brigitte Bardot   166.0   \n",
       "\n",
       "                                                 bio  \\\n",
       "0  Fred Astaire was born in Omaha, Nebraska, to J...   \n",
       "1  Lauren Bacall was born Betty Joan Perske on Se...   \n",
       "2  Brigitte Bardot was born on September 28, 1934...   \n",
       "\n",
       "                                       birth_details date_of_birth  \\\n",
       "0               May 10, 1899 in Omaha, Nebraska, USA    1899-05-10   \n",
       "1  September 16, 1924 in The Bronx, New York City...    1924-09-16   \n",
       "2                September 28, 1934 in Paris, France    1934-09-28   \n",
       "\n",
       "                            place_of_birth  \\\n",
       "0                     Omaha, Nebraska, USA   \n",
       "1  The Bronx, New York City, New York, USA   \n",
       "2                            Paris, France   \n",
       "\n",
       "                                       death_details date_of_death  \\\n",
       "0  June 22, 1987 in Los Angeles, California, USA ...    1987-06-22   \n",
       "1  August 12, 2014 in New York City, New York, US...    2014-08-12   \n",
       "2                                                NaN           NaN   \n",
       "\n",
       "                   place_of_death reason_of_death  \\\n",
       "0  Los Angeles, California, USA         pneumonia   \n",
       "1  New York City, New York, USA            stroke   \n",
       "2                             NaN             NaN   \n",
       "\n",
       "                                      spouses_string  spouses  divorces  \\\n",
       "0  Robyn Smith  (27 June 1980 - 22 June 1987) (hi...        2         0   \n",
       "1  Jason Robards  (4 July 1961 - 10 September 196...        2         1   \n",
       "2  Bernard d'Ormale  (16 August 1992 - present)\\n...        4         3   \n",
       "\n",
       "   spouses_with_children  children  \n",
       "0                      1         2  \n",
       "1                      2         3  \n",
       "2                      1         1  "
      ]
     },
     "execution_count": 50,
     "metadata": {},
     "output_type": "execute_result"
    }
   ],
   "source": [
    "actors.head(3)"
   ]
  },
  {
   "cell_type": "code",
   "execution_count": 51,
   "metadata": {},
   "outputs": [],
   "source": [
    "actors.rename(columns={'imdb_name_id':'actor_id'}, inplace=True)"
   ]
  },
  {
   "cell_type": "code",
   "execution_count": 52,
   "metadata": {},
   "outputs": [],
   "source": [
    "actors_cols = ['actor_id','name','birth_name','date_of_birth','place_of_birth','date_of_death','reason_of_death']"
   ]
  },
  {
   "cell_type": "code",
   "execution_count": 53,
   "metadata": {},
   "outputs": [],
   "source": [
    "actors = actors[actors_cols]"
   ]
  },
  {
   "cell_type": "code",
   "execution_count": 54,
   "metadata": {
    "scrolled": true
   },
   "outputs": [
    {
     "data": {
      "text/html": [
       "<div>\n",
       "<style scoped>\n",
       "    .dataframe tbody tr th:only-of-type {\n",
       "        vertical-align: middle;\n",
       "    }\n",
       "\n",
       "    .dataframe tbody tr th {\n",
       "        vertical-align: top;\n",
       "    }\n",
       "\n",
       "    .dataframe thead th {\n",
       "        text-align: right;\n",
       "    }\n",
       "</style>\n",
       "<table border=\"1\" class=\"dataframe\">\n",
       "  <thead>\n",
       "    <tr style=\"text-align: right;\">\n",
       "      <th></th>\n",
       "      <th>actor_id</th>\n",
       "      <th>name</th>\n",
       "      <th>birth_name</th>\n",
       "      <th>date_of_birth</th>\n",
       "      <th>place_of_birth</th>\n",
       "      <th>date_of_death</th>\n",
       "      <th>reason_of_death</th>\n",
       "    </tr>\n",
       "  </thead>\n",
       "  <tbody>\n",
       "    <tr>\n",
       "      <th>0</th>\n",
       "      <td>nm0000001</td>\n",
       "      <td>Fred Astaire</td>\n",
       "      <td>Frederic Austerlitz Jr.</td>\n",
       "      <td>1899-05-10</td>\n",
       "      <td>Omaha, Nebraska, USA</td>\n",
       "      <td>1987-06-22</td>\n",
       "      <td>pneumonia</td>\n",
       "    </tr>\n",
       "    <tr>\n",
       "      <th>1</th>\n",
       "      <td>nm0000002</td>\n",
       "      <td>Lauren Bacall</td>\n",
       "      <td>Betty Joan Perske</td>\n",
       "      <td>1924-09-16</td>\n",
       "      <td>The Bronx, New York City, New York, USA</td>\n",
       "      <td>2014-08-12</td>\n",
       "      <td>stroke</td>\n",
       "    </tr>\n",
       "    <tr>\n",
       "      <th>2</th>\n",
       "      <td>nm0000003</td>\n",
       "      <td>Brigitte Bardot</td>\n",
       "      <td>Brigitte Bardot</td>\n",
       "      <td>1934-09-28</td>\n",
       "      <td>Paris, France</td>\n",
       "      <td>NaT</td>\n",
       "      <td>NaN</td>\n",
       "    </tr>\n",
       "    <tr>\n",
       "      <th>3</th>\n",
       "      <td>nm0000004</td>\n",
       "      <td>John Belushi</td>\n",
       "      <td>John Adam Belushi</td>\n",
       "      <td>1949-01-24</td>\n",
       "      <td>Chicago, Illinois, USA</td>\n",
       "      <td>1982-03-05</td>\n",
       "      <td>acute cocaine and heroin intoxication</td>\n",
       "    </tr>\n",
       "    <tr>\n",
       "      <th>4</th>\n",
       "      <td>nm0000005</td>\n",
       "      <td>Ingmar Bergman</td>\n",
       "      <td>Ernst Ingmar Bergman</td>\n",
       "      <td>1918-07-14</td>\n",
       "      <td>Uppsala, Uppsala län, Sweden</td>\n",
       "      <td>2007-07-30</td>\n",
       "      <td>natural causes</td>\n",
       "    </tr>\n",
       "    <tr>\n",
       "      <th>...</th>\n",
       "      <td>...</td>\n",
       "      <td>...</td>\n",
       "      <td>...</td>\n",
       "      <td>...</td>\n",
       "      <td>...</td>\n",
       "      <td>...</td>\n",
       "      <td>...</td>\n",
       "    </tr>\n",
       "    <tr>\n",
       "      <th>95</th>\n",
       "      <td>nm0000097</td>\n",
       "      <td>Pamela Anderson</td>\n",
       "      <td>Pamela Denise Anderson</td>\n",
       "      <td>1967-07-01</td>\n",
       "      <td>Ladysmith, British Columbia, Canada</td>\n",
       "      <td>NaT</td>\n",
       "      <td>NaN</td>\n",
       "    </tr>\n",
       "    <tr>\n",
       "      <th>96</th>\n",
       "      <td>nm0000098</td>\n",
       "      <td>Jennifer Aniston</td>\n",
       "      <td>Jennifer Joanna Aniston</td>\n",
       "      <td>1969-02-11</td>\n",
       "      <td>Sherman Oaks, California, USA</td>\n",
       "      <td>NaT</td>\n",
       "      <td>NaN</td>\n",
       "    </tr>\n",
       "    <tr>\n",
       "      <th>97</th>\n",
       "      <td>nm0000099</td>\n",
       "      <td>Patricia Arquette</td>\n",
       "      <td>Patricia T. Arquette</td>\n",
       "      <td>1968-04-08</td>\n",
       "      <td>Chicago, Illinois, USA</td>\n",
       "      <td>NaT</td>\n",
       "      <td>NaN</td>\n",
       "    </tr>\n",
       "    <tr>\n",
       "      <th>98</th>\n",
       "      <td>nm0000100</td>\n",
       "      <td>Rowan Atkinson</td>\n",
       "      <td>Rowan Sebastian Atkinson</td>\n",
       "      <td>1955-01-06</td>\n",
       "      <td>Consett, County Durham, England, UK</td>\n",
       "      <td>NaT</td>\n",
       "      <td>NaN</td>\n",
       "    </tr>\n",
       "    <tr>\n",
       "      <th>99</th>\n",
       "      <td>nm0000101</td>\n",
       "      <td>Dan Aykroyd</td>\n",
       "      <td>Daniel Edward Aykroyd</td>\n",
       "      <td>1952-07-01</td>\n",
       "      <td>Ottawa, Ontario, Canada</td>\n",
       "      <td>NaT</td>\n",
       "      <td>NaN</td>\n",
       "    </tr>\n",
       "  </tbody>\n",
       "</table>\n",
       "<p>100 rows × 7 columns</p>\n",
       "</div>"
      ],
      "text/plain": [
       "     actor_id               name                birth_name date_of_birth  \\\n",
       "0   nm0000001       Fred Astaire   Frederic Austerlitz Jr.    1899-05-10   \n",
       "1   nm0000002      Lauren Bacall         Betty Joan Perske    1924-09-16   \n",
       "2   nm0000003    Brigitte Bardot           Brigitte Bardot    1934-09-28   \n",
       "3   nm0000004       John Belushi         John Adam Belushi    1949-01-24   \n",
       "4   nm0000005     Ingmar Bergman      Ernst Ingmar Bergman    1918-07-14   \n",
       "..        ...                ...                       ...           ...   \n",
       "95  nm0000097    Pamela Anderson    Pamela Denise Anderson    1967-07-01   \n",
       "96  nm0000098   Jennifer Aniston   Jennifer Joanna Aniston    1969-02-11   \n",
       "97  nm0000099  Patricia Arquette      Patricia T. Arquette    1968-04-08   \n",
       "98  nm0000100     Rowan Atkinson  Rowan Sebastian Atkinson    1955-01-06   \n",
       "99  nm0000101        Dan Aykroyd     Daniel Edward Aykroyd    1952-07-01   \n",
       "\n",
       "                             place_of_birth date_of_death  \\\n",
       "0                      Omaha, Nebraska, USA    1987-06-22   \n",
       "1   The Bronx, New York City, New York, USA    2014-08-12   \n",
       "2                             Paris, France           NaT   \n",
       "3                    Chicago, Illinois, USA    1982-03-05   \n",
       "4              Uppsala, Uppsala län, Sweden    2007-07-30   \n",
       "..                                      ...           ...   \n",
       "95      Ladysmith, British Columbia, Canada           NaT   \n",
       "96            Sherman Oaks, California, USA           NaT   \n",
       "97                   Chicago, Illinois, USA           NaT   \n",
       "98      Consett, County Durham, England, UK           NaT   \n",
       "99                  Ottawa, Ontario, Canada           NaT   \n",
       "\n",
       "                          reason_of_death  \n",
       "0                               pneumonia  \n",
       "1                                  stroke  \n",
       "2                                     NaN  \n",
       "3   acute cocaine and heroin intoxication  \n",
       "4                          natural causes  \n",
       "..                                    ...  \n",
       "95                                    NaN  \n",
       "96                                    NaN  \n",
       "97                                    NaN  \n",
       "98                                    NaN  \n",
       "99                                    NaN  \n",
       "\n",
       "[100 rows x 7 columns]"
      ]
     },
     "execution_count": 54,
     "metadata": {},
     "output_type": "execute_result"
    }
   ],
   "source": [
    "actors['date_of_birth']= actors['date_of_birth'].astype(str)\n",
    "actors['date_of_birth']= actors['date_of_birth'].str.split(\" \", expand = True)\n",
    "actors['date_of_birth'] = pd.to_datetime(actors['date_of_birth'], errors='coerce') \n",
    "actors['date_of_birth'].dropna()\n",
    "actors['date_of_death']= actors['date_of_death'].astype(str)\n",
    "actors['date_of_death']= actors['date_of_death'].str.split(\" \", expand = True)\n",
    "actors['date_of_death'] = pd.to_datetime(actors['date_of_death'], errors='coerce') \n",
    "actors.head(100)"
   ]
  },
  {
   "cell_type": "code",
   "execution_count": 55,
   "metadata": {},
   "outputs": [],
   "source": [
    "# Cleaning currency column\n",
    "def clean_currency(x):\n",
    "    \"\"\" If the value is a string with currency symbol, split the string and \n",
    "    return numeric value. Else return original input. \n",
    "    \"\"\"\n",
    "    if isinstance(x, str):\n",
    "        try: \n",
    "            return x.split()[1]\n",
    "        except IndexError as e:\n",
    "            return x\n",
    "    return(x)"
   ]
  },
  {
   "cell_type": "code",
   "execution_count": 56,
   "metadata": {},
   "outputs": [],
   "source": [
    "# Clean date columns - reove string from text from date \n",
    "def clean_date(x):\n",
    "    for i in str(x).split():\n",
    "        if i.isdigit():\n",
    "            return i\n",
    "        if i.isalpha():\n",
    "            pass\n",
    "        else:\n",
    "            return x"
   ]
  },
  {
   "cell_type": "code",
   "execution_count": 57,
   "metadata": {},
   "outputs": [],
   "source": [
    "# Check actor id, remover 'nm' prefix and returns numeric portion. Else skips the row if its not in 'nm000123' format\n",
    "def clean_id(x):\n",
    "    if x[2:].isdigit() and x[0:2] == 'nm':\n",
    "        return x[2:]\n",
    "    else:\n",
    "        pass"
   ]
  },
  {
   "cell_type": "code",
   "execution_count": 58,
   "metadata": {},
   "outputs": [],
   "source": [
    "# Clean the data\n",
    "actors['actor_id'] = actors['actor_id'].apply(lambda x: x.replace('nm', ''))\n",
    "actors['first_name'] = actors.loc[:,'name'].apply(lambda x: x.split()[0])\n",
    "actors['last_name'] = actors.loc[:,'name'].apply(lambda x: x.split()[1:])\n",
    "actors['last_name'] = actors.loc[:,'last_name'].astype(str).apply(lambda x: x.strip('][').replace(\"'\", \"\"))\n",
    "actors['date_of_birth'] = actors.loc[:,'date_of_birth'].apply(lambda x: clean_date(x))\n",
    "actors['date_of_death'] = actors.loc[:,'date_of_death'].apply(lambda x: clean_date(x))\n",
    "actors = actors[['actor_id','first_name','last_name','birth_name','date_of_birth','place_of_birth','date_of_death','reason_of_death']]"
   ]
  },
  {
   "cell_type": "code",
   "execution_count": 59,
   "metadata": {},
   "outputs": [
    {
     "data": {
      "text/html": [
       "<div>\n",
       "<style scoped>\n",
       "    .dataframe tbody tr th:only-of-type {\n",
       "        vertical-align: middle;\n",
       "    }\n",
       "\n",
       "    .dataframe tbody tr th {\n",
       "        vertical-align: top;\n",
       "    }\n",
       "\n",
       "    .dataframe thead th {\n",
       "        text-align: right;\n",
       "    }\n",
       "</style>\n",
       "<table border=\"1\" class=\"dataframe\">\n",
       "  <thead>\n",
       "    <tr style=\"text-align: right;\">\n",
       "      <th></th>\n",
       "      <th>actor_id</th>\n",
       "      <th>first_name</th>\n",
       "      <th>last_name</th>\n",
       "      <th>birth_name</th>\n",
       "      <th>date_of_birth</th>\n",
       "      <th>place_of_birth</th>\n",
       "      <th>date_of_death</th>\n",
       "      <th>reason_of_death</th>\n",
       "    </tr>\n",
       "  </thead>\n",
       "  <tbody>\n",
       "    <tr>\n",
       "      <th>0</th>\n",
       "      <td>0000001</td>\n",
       "      <td>Fred</td>\n",
       "      <td>Astaire</td>\n",
       "      <td>Frederic Austerlitz Jr.</td>\n",
       "      <td>1899-05-10</td>\n",
       "      <td>Omaha, Nebraska, USA</td>\n",
       "      <td>1987-06-22</td>\n",
       "      <td>pneumonia</td>\n",
       "    </tr>\n",
       "    <tr>\n",
       "      <th>1</th>\n",
       "      <td>0000002</td>\n",
       "      <td>Lauren</td>\n",
       "      <td>Bacall</td>\n",
       "      <td>Betty Joan Perske</td>\n",
       "      <td>1924-09-16</td>\n",
       "      <td>The Bronx, New York City, New York, USA</td>\n",
       "      <td>2014-08-12</td>\n",
       "      <td>stroke</td>\n",
       "    </tr>\n",
       "    <tr>\n",
       "      <th>2</th>\n",
       "      <td>0000003</td>\n",
       "      <td>Brigitte</td>\n",
       "      <td>Bardot</td>\n",
       "      <td>Brigitte Bardot</td>\n",
       "      <td>1934-09-28</td>\n",
       "      <td>Paris, France</td>\n",
       "      <td>NaT</td>\n",
       "      <td>NaN</td>\n",
       "    </tr>\n",
       "  </tbody>\n",
       "</table>\n",
       "</div>"
      ],
      "text/plain": [
       "  actor_id first_name last_name               birth_name date_of_birth  \\\n",
       "0  0000001       Fred   Astaire  Frederic Austerlitz Jr.    1899-05-10   \n",
       "1  0000002     Lauren    Bacall        Betty Joan Perske    1924-09-16   \n",
       "2  0000003   Brigitte    Bardot          Brigitte Bardot    1934-09-28   \n",
       "\n",
       "                            place_of_birth date_of_death reason_of_death  \n",
       "0                     Omaha, Nebraska, USA    1987-06-22       pneumonia  \n",
       "1  The Bronx, New York City, New York, USA    2014-08-12          stroke  \n",
       "2                            Paris, France           NaT             NaN  "
      ]
     },
     "execution_count": 59,
     "metadata": {},
     "output_type": "execute_result"
    }
   ],
   "source": [
    "actors.head(3)"
   ]
  },
  {
   "cell_type": "code",
   "execution_count": 18,
   "metadata": {},
   "outputs": [
    {
     "data": {
      "text/plain": [
       "['actor_id',\n",
       " 'first_name',\n",
       " 'last_name',\n",
       " 'birth_name',\n",
       " 'date_of_birth',\n",
       " 'place_of_birth',\n",
       " 'date_of_death',\n",
       " 'reason_of_death']"
      ]
     },
     "execution_count": 18,
     "metadata": {},
     "output_type": "execute_result"
    }
   ],
   "source": [
    "list(actors.columns)"
   ]
  },
  {
   "cell_type": "markdown",
   "metadata": {},
   "source": [
    "### Movies Data "
   ]
  },
  {
   "cell_type": "code",
   "execution_count": 19,
   "metadata": {},
   "outputs": [],
   "source": [
    "movies = pd.read_csv(movies_csv, low_memory=False)"
   ]
  },
  {
   "cell_type": "code",
   "execution_count": 20,
   "metadata": {},
   "outputs": [],
   "source": [
    "rename_cols = {\n",
    "    'imdb_title_id':'movie_id',\n",
    "    'worlwide_gross_income':'gross_income',\n",
    "    'reviews_from_critics': 'critic_reviews'\n",
    "}"
   ]
  },
  {
   "cell_type": "code",
   "execution_count": 21,
   "metadata": {},
   "outputs": [],
   "source": [
    "movies.rename(columns=rename_cols, inplace=True)"
   ]
  },
  {
   "cell_type": "code",
   "execution_count": 22,
   "metadata": {},
   "outputs": [],
   "source": [
    "movie_cols = ['movie_id','title','year','genre','duration','language','director','actors', \\\n",
    "             'description', 'avg_vote', 'critic_reviews']"
   ]
  },
  {
   "cell_type": "code",
   "execution_count": 23,
   "metadata": {},
   "outputs": [],
   "source": [
    "movies = movies[movie_cols]"
   ]
  },
  {
   "cell_type": "code",
   "execution_count": 24,
   "metadata": {},
   "outputs": [
    {
     "data": {
      "text/html": [
       "<div>\n",
       "<style scoped>\n",
       "    .dataframe tbody tr th:only-of-type {\n",
       "        vertical-align: middle;\n",
       "    }\n",
       "\n",
       "    .dataframe tbody tr th {\n",
       "        vertical-align: top;\n",
       "    }\n",
       "\n",
       "    .dataframe thead th {\n",
       "        text-align: right;\n",
       "    }\n",
       "</style>\n",
       "<table border=\"1\" class=\"dataframe\">\n",
       "  <thead>\n",
       "    <tr style=\"text-align: right;\">\n",
       "      <th></th>\n",
       "      <th>movie_id</th>\n",
       "      <th>title</th>\n",
       "      <th>year</th>\n",
       "      <th>genre</th>\n",
       "      <th>duration</th>\n",
       "      <th>language</th>\n",
       "      <th>director</th>\n",
       "      <th>actors</th>\n",
       "      <th>description</th>\n",
       "      <th>avg_vote</th>\n",
       "      <th>critic_reviews</th>\n",
       "    </tr>\n",
       "  </thead>\n",
       "  <tbody>\n",
       "    <tr>\n",
       "      <th>0</th>\n",
       "      <td>tt0000009</td>\n",
       "      <td>Miss Jerry</td>\n",
       "      <td>1894</td>\n",
       "      <td>Romance</td>\n",
       "      <td>45</td>\n",
       "      <td>None</td>\n",
       "      <td>Alexander Black</td>\n",
       "      <td>Blanche Bayliss, William Courtenay, Chauncey D...</td>\n",
       "      <td>The adventures of a female reporter in the 1890s.</td>\n",
       "      <td>5.9</td>\n",
       "      <td>2.0</td>\n",
       "    </tr>\n",
       "    <tr>\n",
       "      <th>1</th>\n",
       "      <td>tt0000574</td>\n",
       "      <td>The Story of the Kelly Gang</td>\n",
       "      <td>1906</td>\n",
       "      <td>Biography, Crime, Drama</td>\n",
       "      <td>70</td>\n",
       "      <td>None</td>\n",
       "      <td>Charles Tait</td>\n",
       "      <td>Elizabeth Tait, John Tait, Norman Campbell, Be...</td>\n",
       "      <td>True story of notorious Australian outlaw Ned ...</td>\n",
       "      <td>6.1</td>\n",
       "      <td>7.0</td>\n",
       "    </tr>\n",
       "    <tr>\n",
       "      <th>2</th>\n",
       "      <td>tt0001892</td>\n",
       "      <td>Den sorte drøm</td>\n",
       "      <td>1911</td>\n",
       "      <td>Drama</td>\n",
       "      <td>53</td>\n",
       "      <td>NaN</td>\n",
       "      <td>Urban Gad</td>\n",
       "      <td>Asta Nielsen, Valdemar Psilander, Gunnar Helse...</td>\n",
       "      <td>Two men of high rank are both wooing the beaut...</td>\n",
       "      <td>5.8</td>\n",
       "      <td>2.0</td>\n",
       "    </tr>\n",
       "  </tbody>\n",
       "</table>\n",
       "</div>"
      ],
      "text/plain": [
       "    movie_id                        title  year                    genre  \\\n",
       "0  tt0000009                   Miss Jerry  1894                  Romance   \n",
       "1  tt0000574  The Story of the Kelly Gang  1906  Biography, Crime, Drama   \n",
       "2  tt0001892               Den sorte drøm  1911                    Drama   \n",
       "\n",
       "   duration language         director  \\\n",
       "0        45     None  Alexander Black   \n",
       "1        70     None     Charles Tait   \n",
       "2        53      NaN        Urban Gad   \n",
       "\n",
       "                                              actors  \\\n",
       "0  Blanche Bayliss, William Courtenay, Chauncey D...   \n",
       "1  Elizabeth Tait, John Tait, Norman Campbell, Be...   \n",
       "2  Asta Nielsen, Valdemar Psilander, Gunnar Helse...   \n",
       "\n",
       "                                         description  avg_vote  critic_reviews  \n",
       "0  The adventures of a female reporter in the 1890s.       5.9             2.0  \n",
       "1  True story of notorious Australian outlaw Ned ...       6.1             7.0  \n",
       "2  Two men of high rank are both wooing the beaut...       5.8             2.0  "
      ]
     },
     "execution_count": 24,
     "metadata": {},
     "output_type": "execute_result"
    }
   ],
   "source": [
    "movies.head(3)"
   ]
  },
  {
   "cell_type": "code",
   "execution_count": 25,
   "metadata": {},
   "outputs": [],
   "source": [
    "movies['movie_id'] = movies['movie_id'].apply(lambda x: x.replace('tt', ''))\n",
    "movies['year'] = movies.loc[:,'year'].apply(lambda x: clean_date(x))"
   ]
  },
  {
   "cell_type": "code",
   "execution_count": 26,
   "metadata": {},
   "outputs": [
    {
     "data": {
      "text/html": [
       "<div>\n",
       "<style scoped>\n",
       "    .dataframe tbody tr th:only-of-type {\n",
       "        vertical-align: middle;\n",
       "    }\n",
       "\n",
       "    .dataframe tbody tr th {\n",
       "        vertical-align: top;\n",
       "    }\n",
       "\n",
       "    .dataframe thead th {\n",
       "        text-align: right;\n",
       "    }\n",
       "</style>\n",
       "<table border=\"1\" class=\"dataframe\">\n",
       "  <thead>\n",
       "    <tr style=\"text-align: right;\">\n",
       "      <th></th>\n",
       "      <th>movie_id</th>\n",
       "      <th>title</th>\n",
       "      <th>year</th>\n",
       "      <th>genre</th>\n",
       "      <th>duration</th>\n",
       "      <th>language</th>\n",
       "      <th>director</th>\n",
       "      <th>actors</th>\n",
       "      <th>description</th>\n",
       "      <th>avg_vote</th>\n",
       "      <th>critic_reviews</th>\n",
       "    </tr>\n",
       "  </thead>\n",
       "  <tbody>\n",
       "    <tr>\n",
       "      <th>0</th>\n",
       "      <td>0000009</td>\n",
       "      <td>Miss Jerry</td>\n",
       "      <td>1894</td>\n",
       "      <td>Romance</td>\n",
       "      <td>45</td>\n",
       "      <td>None</td>\n",
       "      <td>Alexander Black</td>\n",
       "      <td>Blanche Bayliss, William Courtenay, Chauncey D...</td>\n",
       "      <td>The adventures of a female reporter in the 1890s.</td>\n",
       "      <td>5.9</td>\n",
       "      <td>2.0</td>\n",
       "    </tr>\n",
       "    <tr>\n",
       "      <th>1</th>\n",
       "      <td>0000574</td>\n",
       "      <td>The Story of the Kelly Gang</td>\n",
       "      <td>1906</td>\n",
       "      <td>Biography, Crime, Drama</td>\n",
       "      <td>70</td>\n",
       "      <td>None</td>\n",
       "      <td>Charles Tait</td>\n",
       "      <td>Elizabeth Tait, John Tait, Norman Campbell, Be...</td>\n",
       "      <td>True story of notorious Australian outlaw Ned ...</td>\n",
       "      <td>6.1</td>\n",
       "      <td>7.0</td>\n",
       "    </tr>\n",
       "    <tr>\n",
       "      <th>2</th>\n",
       "      <td>0001892</td>\n",
       "      <td>Den sorte drøm</td>\n",
       "      <td>1911</td>\n",
       "      <td>Drama</td>\n",
       "      <td>53</td>\n",
       "      <td>NaN</td>\n",
       "      <td>Urban Gad</td>\n",
       "      <td>Asta Nielsen, Valdemar Psilander, Gunnar Helse...</td>\n",
       "      <td>Two men of high rank are both wooing the beaut...</td>\n",
       "      <td>5.8</td>\n",
       "      <td>2.0</td>\n",
       "    </tr>\n",
       "  </tbody>\n",
       "</table>\n",
       "</div>"
      ],
      "text/plain": [
       "  movie_id                        title  year                    genre  \\\n",
       "0  0000009                   Miss Jerry  1894                  Romance   \n",
       "1  0000574  The Story of the Kelly Gang  1906  Biography, Crime, Drama   \n",
       "2  0001892               Den sorte drøm  1911                    Drama   \n",
       "\n",
       "   duration language         director  \\\n",
       "0        45     None  Alexander Black   \n",
       "1        70     None     Charles Tait   \n",
       "2        53      NaN        Urban Gad   \n",
       "\n",
       "                                              actors  \\\n",
       "0  Blanche Bayliss, William Courtenay, Chauncey D...   \n",
       "1  Elizabeth Tait, John Tait, Norman Campbell, Be...   \n",
       "2  Asta Nielsen, Valdemar Psilander, Gunnar Helse...   \n",
       "\n",
       "                                         description  avg_vote  critic_reviews  \n",
       "0  The adventures of a female reporter in the 1890s.       5.9             2.0  \n",
       "1  True story of notorious Australian outlaw Ned ...       6.1             7.0  \n",
       "2  Two men of high rank are both wooing the beaut...       5.8             2.0  "
      ]
     },
     "execution_count": 26,
     "metadata": {},
     "output_type": "execute_result"
    }
   ],
   "source": [
    "movies.head(3)"
   ]
  },
  {
   "cell_type": "code",
   "execution_count": 27,
   "metadata": {},
   "outputs": [
    {
     "data": {
      "text/plain": [
       "['movie_id',\n",
       " 'title',\n",
       " 'year',\n",
       " 'genre',\n",
       " 'duration',\n",
       " 'language',\n",
       " 'director',\n",
       " 'actors',\n",
       " 'description',\n",
       " 'avg_vote',\n",
       " 'critic_reviews']"
      ]
     },
     "execution_count": 27,
     "metadata": {},
     "output_type": "execute_result"
    }
   ],
   "source": [
    "list(movies.columns)"
   ]
  },
  {
   "cell_type": "markdown",
   "metadata": {},
   "source": [
    "### Ratings data"
   ]
  },
  {
   "cell_type": "code",
   "execution_count": 28,
   "metadata": {},
   "outputs": [],
   "source": [
    "ratings = pd.read_csv(ratings_csv)"
   ]
  },
  {
   "cell_type": "code",
   "execution_count": 29,
   "metadata": {},
   "outputs": [],
   "source": [
    "rename_cols = {\n",
    "    'imdb_title_id':'movie_id',\n",
    "    'females_allages_avg_vote':'avg_vote_females',\n",
    "    'males_allages_avg_vote':'avg_vote_males'\n",
    "}"
   ]
  },
  {
   "cell_type": "code",
   "execution_count": 30,
   "metadata": {},
   "outputs": [],
   "source": [
    "ratings.rename(columns=rename_cols, inplace=True)"
   ]
  },
  {
   "cell_type": "code",
   "execution_count": 31,
   "metadata": {},
   "outputs": [],
   "source": [
    "ratings_cols = ['movie_id','avg_vote_females','avg_vote_males','total_votes','weighted_average_vote']"
   ]
  },
  {
   "cell_type": "code",
   "execution_count": 32,
   "metadata": {},
   "outputs": [],
   "source": [
    "ratings = ratings[ratings_cols]"
   ]
  },
  {
   "cell_type": "code",
   "execution_count": 33,
   "metadata": {},
   "outputs": [],
   "source": [
    "ratings['movie_id'] = ratings['movie_id'].apply(lambda x: x.replace('tt', ''))"
   ]
  },
  {
   "cell_type": "code",
   "execution_count": 34,
   "metadata": {},
   "outputs": [
    {
     "data": {
      "text/html": [
       "<div>\n",
       "<style scoped>\n",
       "    .dataframe tbody tr th:only-of-type {\n",
       "        vertical-align: middle;\n",
       "    }\n",
       "\n",
       "    .dataframe tbody tr th {\n",
       "        vertical-align: top;\n",
       "    }\n",
       "\n",
       "    .dataframe thead th {\n",
       "        text-align: right;\n",
       "    }\n",
       "</style>\n",
       "<table border=\"1\" class=\"dataframe\">\n",
       "  <thead>\n",
       "    <tr style=\"text-align: right;\">\n",
       "      <th></th>\n",
       "      <th>movie_id</th>\n",
       "      <th>avg_vote_females</th>\n",
       "      <th>avg_vote_males</th>\n",
       "      <th>total_votes</th>\n",
       "      <th>weighted_average_vote</th>\n",
       "    </tr>\n",
       "  </thead>\n",
       "  <tbody>\n",
       "    <tr>\n",
       "      <th>0</th>\n",
       "      <td>0000009</td>\n",
       "      <td>6.0</td>\n",
       "      <td>6.2</td>\n",
       "      <td>154</td>\n",
       "      <td>5.9</td>\n",
       "    </tr>\n",
       "    <tr>\n",
       "      <th>1</th>\n",
       "      <td>0000574</td>\n",
       "      <td>6.2</td>\n",
       "      <td>6.1</td>\n",
       "      <td>589</td>\n",
       "      <td>6.1</td>\n",
       "    </tr>\n",
       "    <tr>\n",
       "      <th>2</th>\n",
       "      <td>0001892</td>\n",
       "      <td>5.7</td>\n",
       "      <td>5.9</td>\n",
       "      <td>188</td>\n",
       "      <td>5.8</td>\n",
       "    </tr>\n",
       "  </tbody>\n",
       "</table>\n",
       "</div>"
      ],
      "text/plain": [
       "  movie_id  avg_vote_females  avg_vote_males  total_votes  \\\n",
       "0  0000009               6.0             6.2          154   \n",
       "1  0000574               6.2             6.1          589   \n",
       "2  0001892               5.7             5.9          188   \n",
       "\n",
       "   weighted_average_vote  \n",
       "0                    5.9  \n",
       "1                    6.1  \n",
       "2                    5.8  "
      ]
     },
     "execution_count": 34,
     "metadata": {},
     "output_type": "execute_result"
    }
   ],
   "source": [
    "ratings.head(3)"
   ]
  },
  {
   "cell_type": "code",
   "execution_count": 35,
   "metadata": {},
   "outputs": [
    {
     "data": {
      "text/plain": [
       "['movie_id',\n",
       " 'avg_vote_females',\n",
       " 'avg_vote_males',\n",
       " 'total_votes',\n",
       " 'weighted_average_vote']"
      ]
     },
     "execution_count": 35,
     "metadata": {},
     "output_type": "execute_result"
    }
   ],
   "source": [
    "list(ratings.columns)"
   ]
  },
  {
   "cell_type": "markdown",
   "metadata": {},
   "source": [
    "### movie_actors table"
   ]
  },
  {
   "cell_type": "code",
   "execution_count": 36,
   "metadata": {},
   "outputs": [],
   "source": [
    "movie_actor = pd.read_csv(title_principals)"
   ]
  },
  {
   "cell_type": "code",
   "execution_count": 37,
   "metadata": {},
   "outputs": [
    {
     "data": {
      "text/html": [
       "<div>\n",
       "<style scoped>\n",
       "    .dataframe tbody tr th:only-of-type {\n",
       "        vertical-align: middle;\n",
       "    }\n",
       "\n",
       "    .dataframe tbody tr th {\n",
       "        vertical-align: top;\n",
       "    }\n",
       "\n",
       "    .dataframe thead th {\n",
       "        text-align: right;\n",
       "    }\n",
       "</style>\n",
       "<table border=\"1\" class=\"dataframe\">\n",
       "  <thead>\n",
       "    <tr style=\"text-align: right;\">\n",
       "      <th></th>\n",
       "      <th>imdb_title_id</th>\n",
       "      <th>ordering</th>\n",
       "      <th>imdb_name_id</th>\n",
       "      <th>category</th>\n",
       "      <th>job</th>\n",
       "      <th>characters</th>\n",
       "    </tr>\n",
       "  </thead>\n",
       "  <tbody>\n",
       "    <tr>\n",
       "      <th>0</th>\n",
       "      <td>tt0000009</td>\n",
       "      <td>1</td>\n",
       "      <td>nm0063086</td>\n",
       "      <td>actress</td>\n",
       "      <td>NaN</td>\n",
       "      <td>[\"Miss Geraldine Holbrook (Miss Jerry)\"]</td>\n",
       "    </tr>\n",
       "    <tr>\n",
       "      <th>1</th>\n",
       "      <td>tt0000009</td>\n",
       "      <td>2</td>\n",
       "      <td>nm0183823</td>\n",
       "      <td>actor</td>\n",
       "      <td>NaN</td>\n",
       "      <td>[\"Mr. Hamilton\"]</td>\n",
       "    </tr>\n",
       "    <tr>\n",
       "      <th>2</th>\n",
       "      <td>tt0000009</td>\n",
       "      <td>3</td>\n",
       "      <td>nm1309758</td>\n",
       "      <td>actor</td>\n",
       "      <td>NaN</td>\n",
       "      <td>[\"Chauncey Depew - the Director of the New Yor...</td>\n",
       "    </tr>\n",
       "  </tbody>\n",
       "</table>\n",
       "</div>"
      ],
      "text/plain": [
       "  imdb_title_id  ordering imdb_name_id category  job  \\\n",
       "0     tt0000009         1    nm0063086  actress  NaN   \n",
       "1     tt0000009         2    nm0183823    actor  NaN   \n",
       "2     tt0000009         3    nm1309758    actor  NaN   \n",
       "\n",
       "                                          characters  \n",
       "0           [\"Miss Geraldine Holbrook (Miss Jerry)\"]  \n",
       "1                                   [\"Mr. Hamilton\"]  \n",
       "2  [\"Chauncey Depew - the Director of the New Yor...  "
      ]
     },
     "execution_count": 37,
     "metadata": {},
     "output_type": "execute_result"
    }
   ],
   "source": [
    "movie_actor.head(3)"
   ]
  },
  {
   "cell_type": "code",
   "execution_count": 38,
   "metadata": {},
   "outputs": [],
   "source": [
    "rename_cols = {\n",
    "    'imdb_title_id':'movie_id',\n",
    "    'imdb_name_id':'actor_id',\n",
    "    'category': 'role'\n",
    "}"
   ]
  },
  {
   "cell_type": "code",
   "execution_count": 39,
   "metadata": {},
   "outputs": [],
   "source": [
    "movie_actor.rename(columns=rename_cols, inplace=True)"
   ]
  },
  {
   "cell_type": "code",
   "execution_count": 40,
   "metadata": {},
   "outputs": [],
   "source": [
    "movie_actor['movie_id'] = movie_actor['movie_id'].apply(lambda x: x.replace('tt', ''))\n",
    "movie_actor['actor_id'] = movie_actor['actor_id'].apply(lambda x: x.replace('nm', ''))"
   ]
  },
  {
   "cell_type": "code",
   "execution_count": 41,
   "metadata": {},
   "outputs": [
    {
     "data": {
      "text/html": [
       "<div>\n",
       "<style scoped>\n",
       "    .dataframe tbody tr th:only-of-type {\n",
       "        vertical-align: middle;\n",
       "    }\n",
       "\n",
       "    .dataframe tbody tr th {\n",
       "        vertical-align: top;\n",
       "    }\n",
       "\n",
       "    .dataframe thead th {\n",
       "        text-align: right;\n",
       "    }\n",
       "</style>\n",
       "<table border=\"1\" class=\"dataframe\">\n",
       "  <thead>\n",
       "    <tr style=\"text-align: right;\">\n",
       "      <th></th>\n",
       "      <th>movie_id</th>\n",
       "      <th>ordering</th>\n",
       "      <th>actor_id</th>\n",
       "      <th>role</th>\n",
       "      <th>job</th>\n",
       "      <th>characters</th>\n",
       "    </tr>\n",
       "  </thead>\n",
       "  <tbody>\n",
       "    <tr>\n",
       "      <th>0</th>\n",
       "      <td>0000009</td>\n",
       "      <td>1</td>\n",
       "      <td>0063086</td>\n",
       "      <td>actress</td>\n",
       "      <td>NaN</td>\n",
       "      <td>[\"Miss Geraldine Holbrook (Miss Jerry)\"]</td>\n",
       "    </tr>\n",
       "    <tr>\n",
       "      <th>1</th>\n",
       "      <td>0000009</td>\n",
       "      <td>2</td>\n",
       "      <td>0183823</td>\n",
       "      <td>actor</td>\n",
       "      <td>NaN</td>\n",
       "      <td>[\"Mr. Hamilton\"]</td>\n",
       "    </tr>\n",
       "    <tr>\n",
       "      <th>2</th>\n",
       "      <td>0000009</td>\n",
       "      <td>3</td>\n",
       "      <td>1309758</td>\n",
       "      <td>actor</td>\n",
       "      <td>NaN</td>\n",
       "      <td>[\"Chauncey Depew - the Director of the New Yor...</td>\n",
       "    </tr>\n",
       "  </tbody>\n",
       "</table>\n",
       "</div>"
      ],
      "text/plain": [
       "  movie_id  ordering actor_id     role  job  \\\n",
       "0  0000009         1  0063086  actress  NaN   \n",
       "1  0000009         2  0183823    actor  NaN   \n",
       "2  0000009         3  1309758    actor  NaN   \n",
       "\n",
       "                                          characters  \n",
       "0           [\"Miss Geraldine Holbrook (Miss Jerry)\"]  \n",
       "1                                   [\"Mr. Hamilton\"]  \n",
       "2  [\"Chauncey Depew - the Director of the New Yor...  "
      ]
     },
     "execution_count": 41,
     "metadata": {},
     "output_type": "execute_result"
    }
   ],
   "source": [
    "movie_actor.head(3)"
   ]
  },
  {
   "cell_type": "code",
   "execution_count": 42,
   "metadata": {},
   "outputs": [],
   "source": [
    "movie_actor = movie_actor[['movie_id','actor_id','role','characters']]"
   ]
  },
  {
   "cell_type": "code",
   "execution_count": 43,
   "metadata": {},
   "outputs": [
    {
     "data": {
      "text/plain": [
       "['movie_id', 'actor_id', 'role', 'characters']"
      ]
     },
     "execution_count": 43,
     "metadata": {},
     "output_type": "execute_result"
    }
   ],
   "source": [
    "list(movie_actor.columns)"
   ]
  },
  {
   "cell_type": "markdown",
   "metadata": {},
   "source": [
    "### Load Sql Tables"
   ]
  },
  {
   "cell_type": "code",
   "execution_count": 44,
   "metadata": {},
   "outputs": [],
   "source": [
    "# read the data to tables:\n",
    "movies.to_sql('movies', schema='public', con=cnx, if_exists='append', index=False)"
   ]
  },
  {
   "cell_type": "code",
   "execution_count": 61,
   "metadata": {},
   "outputs": [],
   "source": [
    "actors.to_sql('actors', schema='public', con=cnx, if_exists='append', index=False)"
   ]
  },
  {
   "cell_type": "code",
   "execution_count": 46,
   "metadata": {},
   "outputs": [],
   "source": [
    "ratings.to_sql('ratings', schema='public', con=cnx, if_exists='append', index=False)"
   ]
  },
  {
   "cell_type": "code",
   "execution_count": 47,
   "metadata": {},
   "outputs": [],
   "source": [
    "movie_actor.to_sql('movie_actor', schema='public', con=cnx, if_exists='append', index=False)"
   ]
  },
  {
   "cell_type": "code",
   "execution_count": null,
   "metadata": {},
   "outputs": [],
   "source": []
  }
 ],
 "metadata": {
  "kernelspec": {
   "display_name": "Python 3",
   "language": "python",
   "name": "python3"
  },
  "language_info": {
   "codemirror_mode": {
    "name": "ipython",
    "version": 3
   },
   "file_extension": ".py",
   "mimetype": "text/x-python",
   "name": "python",
   "nbconvert_exporter": "python",
   "pygments_lexer": "ipython3",
   "version": "3.8.5"
  }
 },
 "nbformat": 4,
 "nbformat_minor": 4
}
